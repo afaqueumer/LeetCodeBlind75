{
 "cells": [
  {
   "cell_type": "code",
   "execution_count": 1,
   "id": "fe5a752e",
   "metadata": {},
   "outputs": [],
   "source": [
    "# You are given an array prices where prices[i] is the price of a given stock on the ith day.\n",
    "# You want to maximize your profit by choosing a single day to buy one stock and choosing a different day \n",
    "# in the future to sell that stock.\n",
    "# Return the maximum profit you can achieve from this transaction. If you cannot achieve any profit, return 0.\n",
    "\n",
    "\n",
    "# Input: prices = [7,1,5,3,6,4]\n",
    "# Output: 5\n",
    "# Explanation: Buy on day 2 (price = 1) and sell on day 5 (price = 6), profit = 6-1 = 5.\n",
    "# Note that buying on day 2 and selling on day 1 is not allowed because you must buy before you sell.\n",
    "\n",
    "\n",
    "# Input: prices = [7,6,4,3,1]\n",
    "# Output: 0\n",
    "# Explanation: In this case, no transactions are done and the max profit = 0."
   ]
  },
  {
   "cell_type": "code",
   "execution_count": null,
   "id": "86402bf8",
   "metadata": {},
   "outputs": [],
   "source": [
    "prices = [7,1,5,3,6,4]"
   ]
  },
  {
   "cell_type": "code",
   "execution_count": 3,
   "id": "ccc0ec3f",
   "metadata": {},
   "outputs": [],
   "source": [
    "prices.index(min(prices))"
   ]
  },
  {
   "cell_type": "code",
   "execution_count": 4,
   "id": "24ce0a9d",
   "metadata": {},
   "outputs": [],
   "source": [
    "prices = [7,6,4,3,1]"
   ]
  },
  {
   "cell_type": "code",
   "execution_count": 5,
   "id": "219059ea",
   "metadata": {},
   "outputs": [],
   "source": [
    "prices = [2,4,1]"
   ]
  },
  {
   "cell_type": "code",
   "execution_count": 6,
   "id": "5dc877c2",
   "metadata": {},
   "outputs": [],
   "source": [
    "prices = [7,1,5,3,6,4]"
   ]
  },
  {
   "cell_type": "code",
   "execution_count": 7,
   "id": "2f9836e9",
   "metadata": {},
   "outputs": [
    {
     "name": "stdout",
     "output_type": "stream",
     "text": [
      "buy --> 7 sell --> 6  profit/loss = -1\n",
      "buy --> 1 sell --> 6  profit/loss = 5\n",
      "buy --> 5 sell --> 6  profit/loss = 1\n",
      "buy --> 3 sell --> 6  profit/loss = 3\n",
      "buy --> 6 sell --> 4  profit/loss = -2\n",
      "5\n",
      "[0, 5, 1, 3, 0]\n"
     ]
    }
   ],
   "source": [
    "_profit = []\n",
    "for i, buy in enumerate(prices):\n",
    "    if i<len(prices)-1:\n",
    "        sell = max(prices[i+1:])\n",
    "        profit = sell-buy\n",
    "        if profit>0:\n",
    "            _profit.append(profit)\n",
    "        else:\n",
    "            _profit.append(0)\n",
    "        print(f\"buy --> {buy} sell --> {sell}  profit/loss = {profit}\")\n",
    "print(max(_profit))  \n",
    "print(_profit)"
   ]
  },
  {
   "cell_type": "markdown",
   "id": "7bfc4ea5",
   "metadata": {},
   "source": [
    "## This solution worked but time complexity"
   ]
  },
  {
   "cell_type": "code",
   "execution_count": 8,
   "id": "32d0186c",
   "metadata": {},
   "outputs": [
    {
     "name": "stdout",
     "output_type": "stream",
     "text": [
      "7 6 -1 0\n",
      "1 6 5 5\n",
      "5 6 1 5\n",
      "3 6 3 5\n",
      "6 4 -2 5\n"
     ]
    }
   ],
   "source": [
    "_profit = 0\n",
    "for i in range(len(prices)-1):\n",
    "    buy = prices[i]\n",
    "    sell = max(prices[i+1:])\n",
    "    profit = sell-buy\n",
    "    if profit>_profit: _profit=profit\n",
    "    print(buy, sell, profit, _profit)"
   ]
  },
  {
   "cell_type": "markdown",
   "id": "10f58962",
   "metadata": {},
   "source": [
    "## This solution works fine"
   ]
  },
  {
   "cell_type": "code",
   "execution_count": 9,
   "id": "be7e6026",
   "metadata": {},
   "outputs": [
    {
     "name": "stdout",
     "output_type": "stream",
     "text": [
      "5\n"
     ]
    }
   ],
   "source": [
    "minb = prices[0]\n",
    "maxp = 0\n",
    "for buy in prices:\n",
    "    if buy<minb: minb = buy\n",
    "    sell = buy - minb\n",
    "    if sell>maxp: maxp = sell\n",
    "        \n",
    "print(maxp)"
   ]
  }
 ],
 "metadata": {
  "kernelspec": {
   "display_name": "Python 3 (ipykernel)",
   "language": "python",
   "name": "python3"
  },
  "language_info": {
   "codemirror_mode": {
    "name": "ipython",
    "version": 3
   },
   "file_extension": ".py",
   "mimetype": "text/x-python",
   "name": "python",
   "nbconvert_exporter": "python",
   "pygments_lexer": "ipython3",
   "version": "3.9.13"
  }
 },
 "nbformat": 4,
 "nbformat_minor": 5
}
