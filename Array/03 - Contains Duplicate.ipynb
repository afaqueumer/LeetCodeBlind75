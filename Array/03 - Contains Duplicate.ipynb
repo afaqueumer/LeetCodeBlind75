{
 "cells": [
  {
   "cell_type": "code",
   "execution_count": 1,
   "id": "54417d83",
   "metadata": {},
   "outputs": [],
   "source": [
    "# Given an integer array nums, return true if any value appears at least twice in the array, \n",
    "# and return false if every element is distinct.\n",
    "\n",
    "# Input: nums = [1,2,3,1]\n",
    "# Output: true\n",
    "\n",
    "# Input: nums = [1,2,3,4]\n",
    "# Output: false\n",
    "\n",
    "# Input: nums = [1,1,1,3,3,4,3,2,4,2]\n",
    "# Output: true"
   ]
  },
  {
   "cell_type": "code",
   "execution_count": 2,
   "id": "ad67f224",
   "metadata": {},
   "outputs": [],
   "source": [
    "nums = [1,2,3,1]"
   ]
  },
  {
   "cell_type": "code",
   "execution_count": 3,
   "id": "54168783",
   "metadata": {},
   "outputs": [
    {
     "data": {
      "text/plain": [
       "True"
      ]
     },
     "execution_count": 3,
     "metadata": {},
     "output_type": "execute_result"
    }
   ],
   "source": [
    "len(nums) != len(list(set(nums)))"
   ]
  },
  {
   "cell_type": "code",
   "execution_count": 4,
   "id": "154396a9",
   "metadata": {},
   "outputs": [],
   "source": [
    "nums = [1,2,3,4]"
   ]
  },
  {
   "cell_type": "code",
   "execution_count": 5,
   "id": "cab8c3b5",
   "metadata": {},
   "outputs": [
    {
     "data": {
      "text/plain": [
       "False"
      ]
     },
     "execution_count": 5,
     "metadata": {},
     "output_type": "execute_result"
    }
   ],
   "source": [
    "len(nums) != len(list(set(nums)))"
   ]
  }
 ],
 "metadata": {
  "kernelspec": {
   "display_name": "Python 3 (ipykernel)",
   "language": "python",
   "name": "python3"
  },
  "language_info": {
   "codemirror_mode": {
    "name": "ipython",
    "version": 3
   },
   "file_extension": ".py",
   "mimetype": "text/x-python",
   "name": "python",
   "nbconvert_exporter": "python",
   "pygments_lexer": "ipython3",
   "version": "3.9.13"
  }
 },
 "nbformat": 4,
 "nbformat_minor": 5
}
