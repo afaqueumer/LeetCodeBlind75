{
 "cells": [
  {
   "cell_type": "code",
   "execution_count": 1,
   "id": "a4bdf8d7",
   "metadata": {},
   "outputs": [],
   "source": [
    "# Given an array of integers nums and an integer target, return indices of the two numbers such that they add up to target.\n",
    "# You may assume that each input would have exactly one solution, and you may not use the same element twice.\n",
    "# You can return the answer in any order.\n",
    "\n",
    "# Input: nums = [2,7,11,15], target = 9\n",
    "# Output: [0,1]\n",
    "# Explanation: Because nums[0] + nums[1] == 9, we return [0, 1].\n",
    "\n",
    "# Input: nums = [3,2,4], target = 6\n",
    "# Output: [1,2]\n",
    "\n",
    "# Input: nums = [3,3], target = 6\n",
    "# Output: [0,1]"
   ]
  },
  {
   "cell_type": "code",
   "execution_count": 2,
   "id": "ade99afe",
   "metadata": {},
   "outputs": [],
   "source": [
    "# Test Case 1\n",
    "\n",
    "nums = [2,7,11,15]\n",
    "target = 9\n",
    "\n",
    "# Output: [0,1]\n",
    "# Explanation: Because nums[0] + nums[1] == 9, we return [0, 1]."
   ]
  },
  {
   "cell_type": "code",
   "execution_count": 3,
   "id": "37c48177",
   "metadata": {},
   "outputs": [],
   "source": [
    "nums = [3,2,4]\n",
    "target = 6\n",
    "\n",
    "# Output: [1,2]"
   ]
  },
  {
   "cell_type": "code",
   "execution_count": 4,
   "id": "a87b1690",
   "metadata": {},
   "outputs": [],
   "source": [
    "nums = [3,3]\n",
    "target = 6\n",
    "\n",
    "# Output: [0,1]"
   ]
  },
  {
   "cell_type": "markdown",
   "id": "ac9135fa",
   "metadata": {},
   "source": [
    "## Solution 1"
   ]
  },
  {
   "cell_type": "code",
   "execution_count": 5,
   "id": "3f608fe2",
   "metadata": {},
   "outputs": [
    {
     "name": "stdout",
     "output_type": "stream",
     "text": [
      "3 0\n",
      "3 1\n"
     ]
    }
   ],
   "source": [
    "for i, x in enumerate(nums):\n",
    "    y = target-x\n",
    "    if y in nums[i+1:]:\n",
    "        print(x, nums.index(x))\n",
    "        print(y, nums[i+1:].index(y)+i+1)"
   ]
  },
  {
   "cell_type": "markdown",
   "id": "1cf3a72c",
   "metadata": {},
   "source": [
    "## Solution 2"
   ]
  },
  {
   "cell_type": "code",
   "execution_count": 6,
   "id": "eb81a995",
   "metadata": {},
   "outputs": [
    {
     "name": "stdout",
     "output_type": "stream",
     "text": [
      "0 1\n"
     ]
    }
   ],
   "source": [
    "d = {}\n",
    "for i, x in enumerate(nums):\n",
    "    \n",
    "    y = target-x\n",
    "    if y in d:\n",
    "        print(d[y], i)    \n",
    "    d[x] = i"
   ]
  }
 ],
 "metadata": {
  "kernelspec": {
   "display_name": "Python 3 (ipykernel)",
   "language": "python",
   "name": "python3"
  },
  "language_info": {
   "codemirror_mode": {
    "name": "ipython",
    "version": 3
   },
   "file_extension": ".py",
   "mimetype": "text/x-python",
   "name": "python",
   "nbconvert_exporter": "python",
   "pygments_lexer": "ipython3",
   "version": "3.9.13"
  }
 },
 "nbformat": 4,
 "nbformat_minor": 5
}
