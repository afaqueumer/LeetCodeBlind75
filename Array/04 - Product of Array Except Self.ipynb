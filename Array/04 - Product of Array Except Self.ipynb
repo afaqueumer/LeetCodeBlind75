{
 "cells": [
  {
   "cell_type": "code",
   "execution_count": 1,
   "id": "9abf4e34",
   "metadata": {},
   "outputs": [],
   "source": [
    "# Given an integer array nums, return an array answer such that answer[i] is equal to the product of all the elements \n",
    "# of nums except nums[i]. The product of any prefix or suffix of nums is guaranteed to fit in a 32-bit integer.\n",
    "# You must write an algorithm that runs in O(n) time and without using the division operation.\n",
    "\n",
    "# Input: nums = [1,2,3,4]\n",
    "# Output: [24,12,8,6]\n",
    "\n",
    "# Input: nums = [-1,1,0,-3,3]\n",
    "# Output: [0,0,9,0,0]"
   ]
  },
  {
   "cell_type": "code",
   "execution_count": 2,
   "id": "1dfe1b90",
   "metadata": {},
   "outputs": [],
   "source": [
    "import math"
   ]
  },
  {
   "cell_type": "code",
   "execution_count": 3,
   "id": "1838aac1",
   "metadata": {},
   "outputs": [],
   "source": [
    "nums = [1,2,3,4]"
   ]
  },
  {
   "cell_type": "code",
   "execution_count": 4,
   "id": "634f6ff2",
   "metadata": {},
   "outputs": [
    {
     "data": {
      "text/plain": [
       "[24, 12, 8, 6]"
      ]
     },
     "execution_count": 4,
     "metadata": {},
     "output_type": "execute_result"
    }
   ],
   "source": [
    "result = []\n",
    "for i, val in enumerate(nums):\n",
    "    temp = nums.copy()\n",
    "    temp.remove(val)\n",
    "    result.append(math.prod(temp))\n",
    "    \n",
    "result"
   ]
  },
  {
   "cell_type": "code",
   "execution_count": 5,
   "id": "c3bb8f52",
   "metadata": {},
   "outputs": [
    {
     "data": {
      "text/plain": [
       "100"
      ]
     },
     "execution_count": 5,
     "metadata": {},
     "output_type": "execute_result"
    }
   ],
   "source": [
    "math.prod([10,5,2])"
   ]
  },
  {
   "cell_type": "markdown",
   "id": "72bccf9d",
   "metadata": {},
   "source": [
    "`Note:` There is a param start=1 by default so when the iterable is empty it returns 1. For this problem slicing prefix at start index and postfix at end index will give empty list there this will come handy."
   ]
  },
  {
   "cell_type": "code",
   "execution_count": 6,
   "id": "94638f1b",
   "metadata": {},
   "outputs": [
    {
     "data": {
      "text/plain": [
       "1"
      ]
     },
     "execution_count": 6,
     "metadata": {},
     "output_type": "execute_result"
    }
   ],
   "source": [
    "math.prod([])"
   ]
  },
  {
   "cell_type": "code",
   "execution_count": 7,
   "id": "980d0ff2",
   "metadata": {
    "scrolled": true
   },
   "outputs": [
    {
     "data": {
      "text/plain": [
       "[1, 2, 3, 4]"
      ]
     },
     "execution_count": 7,
     "metadata": {},
     "output_type": "execute_result"
    }
   ],
   "source": [
    "nums"
   ]
  },
  {
   "cell_type": "code",
   "execution_count": 8,
   "id": "11c604e4",
   "metadata": {
    "scrolled": false
   },
   "outputs": [
    {
     "name": "stdout",
     "output_type": "stream",
     "text": [
      "Current value: 1\n",
      "Left Array: []\n",
      "Right Array: [4, 3, 2]\n",
      "Left Product: 1\n",
      "Product Except current value: 24\n",
      "Product Except current value: 24\n",
      "\n",
      "Current value: 2\n",
      "Left Array: [1]\n",
      "Right Array: [4, 3]\n",
      "Left Product: 1\n",
      "Product Except current value: 12\n",
      "Product Except current value: 12\n",
      "\n",
      "Current value: 3\n",
      "Left Array: [1, 2]\n",
      "Right Array: [4]\n",
      "Left Product: 2\n",
      "Product Except current value: 4\n",
      "Product Except current value: 8\n",
      "\n",
      "Current value: 4\n",
      "Left Array: [1, 2, 3]\n",
      "Right Array: []\n",
      "Left Product: 6\n",
      "Product Except current value: 1\n",
      "Product Except current value: 6\n",
      "\n"
     ]
    }
   ],
   "source": [
    "for i, val in enumerate(nums):\n",
    "    print(f\"Current value: {val}\")\n",
    "    print(f\"Left Array: {nums[:i]}\")\n",
    "    print(f\"Right Array: {nums[-1:i:-1]}\")\n",
    "    print(f\"Left Product: {math.prod(nums[:i])}\")\n",
    "    print(f\"Product Except current value: {math.prod(nums[-1:i:-1])}\")\n",
    "    print(f\"Product Except current value: {math.prod(nums[:i])*math.prod(nums[-1:i:-1])}\")\n",
    "    print()"
   ]
  },
  {
   "cell_type": "markdown",
   "id": "25576b57",
   "metadata": {},
   "source": [
    "#### Another soution without using math.prod"
   ]
  },
  {
   "cell_type": "code",
   "execution_count": 9,
   "id": "fc8089a0",
   "metadata": {},
   "outputs": [
    {
     "data": {
      "text/plain": [
       "[24, 12, 8, 6]"
      ]
     },
     "execution_count": 9,
     "metadata": {},
     "output_type": "execute_result"
    }
   ],
   "source": [
    "result = []\n",
    "for i, val in enumerate(nums):\n",
    "    l = 1\n",
    "    r = 1\n",
    "    for x in nums[:i]: l*=x\n",
    "    for x in nums[-1:i:-1]: r*=x\n",
    "    result.append(l*r)\n",
    "result"
   ]
  },
  {
   "cell_type": "markdown",
   "id": "e6f090a8",
   "metadata": {},
   "source": [
    "#### Optimizing Above code"
   ]
  },
  {
   "cell_type": "code",
   "execution_count": 10,
   "id": "81b5216b",
   "metadata": {},
   "outputs": [
    {
     "data": {
      "text/plain": [
       "[1, 2, 3, 4]"
      ]
     },
     "execution_count": 10,
     "metadata": {},
     "output_type": "execute_result"
    }
   ],
   "source": [
    "nums"
   ]
  },
  {
   "cell_type": "code",
   "execution_count": 11,
   "id": "b7e13f2e",
   "metadata": {},
   "outputs": [
    {
     "name": "stdout",
     "output_type": "stream",
     "text": [
      "Current value: 1\n",
      "Product Left: 1\n",
      "\n",
      "Current value: 2\n",
      "Product Left: 1\n",
      "\n",
      "Current value: 3\n",
      "Product Left: 2\n",
      "\n",
      "Current value: 4\n",
      "Product Left: 6\n",
      "\n"
     ]
    }
   ],
   "source": [
    "l = 1\n",
    "for val in nums:\n",
    "    print(f\"Current value: {val}\")\n",
    "    print(f\"Product Left: {l}\")\n",
    "    l *= val\n",
    "    print()"
   ]
  },
  {
   "cell_type": "code",
   "execution_count": 12,
   "id": "91b21c5e",
   "metadata": {},
   "outputs": [
    {
     "name": "stdout",
     "output_type": "stream",
     "text": [
      "Current value: 4\n",
      "Product Right: 1\n",
      "\n",
      "Current value: 3\n",
      "Product Right: 4\n",
      "\n",
      "Current value: 2\n",
      "Product Right: 12\n",
      "\n",
      "Current value: 1\n",
      "Product Right: 24\n",
      "\n"
     ]
    }
   ],
   "source": [
    "r = 1\n",
    "for i in range(len(nums) - 1, -1, -1):\n",
    "    print(f\"Current value: {nums[i]}\")\n",
    "    print(f\"Product Right: {r}\")\n",
    "    r *= nums[i]\n",
    "    print()"
   ]
  },
  {
   "cell_type": "code",
   "execution_count": 13,
   "id": "fd43fe22",
   "metadata": {},
   "outputs": [
    {
     "data": {
      "text/plain": [
       "[24, 12, 8, 6]"
      ]
     },
     "execution_count": 13,
     "metadata": {},
     "output_type": "execute_result"
    }
   ],
   "source": [
    "result = []\n",
    "l = 1\n",
    "for val in nums:\n",
    "    result.append(l)\n",
    "    l *= val\n",
    "\n",
    "r = 1\n",
    "for i in range(len(nums) - 1, -1, -1):\n",
    "    result[i] *= r\n",
    "    r *= nums[i]\n",
    "\n",
    "result"
   ]
  },
  {
   "cell_type": "markdown",
   "id": "c2b8b4dd",
   "metadata": {},
   "source": [
    "By avoiding the slicing operations nums[:i] and nums[-1:i:-1],\n",
    "we eliminate unnecessary copies of the list and improve efficiency."
   ]
  }
 ],
 "metadata": {
  "kernelspec": {
   "display_name": "Python 3 (ipykernel)",
   "language": "python",
   "name": "python3"
  },
  "language_info": {
   "codemirror_mode": {
    "name": "ipython",
    "version": 3
   },
   "file_extension": ".py",
   "mimetype": "text/x-python",
   "name": "python",
   "nbconvert_exporter": "python",
   "pygments_lexer": "ipython3",
   "version": "3.9.13"
  }
 },
 "nbformat": 4,
 "nbformat_minor": 5
}
